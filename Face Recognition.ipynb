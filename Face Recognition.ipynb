{
 "cells": [
  {
   "cell_type": "markdown",
   "metadata": {},
   "source": [
    "adding dependencies\n"
   ]
  },
  {
   "cell_type": "code",
   "execution_count": 1,
   "metadata": {},
   "outputs": [],
   "source": [
    "import sys, os\n",
    "import pandas as pd\n",
    "import numpy as np\n"
   ]
  },
  {
   "cell_type": "markdown",
   "metadata": {},
   "source": [
    "importing modules"
   ]
  },
  {
   "cell_type": "code",
   "execution_count": 2,
   "metadata": {},
   "outputs": [],
   "source": [
    "import tensorflow as tf\n",
    "from keras.models import Sequential\n",
    "from keras.layers import Dense, Dropout, Activation, Flatten\n",
    "from keras.layers import Conv2D, MaxPooling2D, BatchNormalization,AveragePooling2D\n",
    "from keras.losses import categorical_crossentropy\n",
    "from keras.optimizers import Adam\n",
    "from keras.regularizers import l2\n",
    "from keras.utils import np_utils"
   ]
  },
  {
   "cell_type": "code",
   "execution_count": 3,
   "metadata": {},
   "outputs": [
    {
     "data": {
      "text/plain": [
       "'2.2.0'"
      ]
     },
     "execution_count": 3,
     "metadata": {},
     "output_type": "execute_result"
    }
   ],
   "source": [
    "tf.__version__"
   ]
  },
  {
   "cell_type": "markdown",
   "metadata": {},
   "source": [
    "importing the data"
   ]
  },
  {
   "cell_type": "code",
   "execution_count": 4,
   "metadata": {},
   "outputs": [],
   "source": [
    "df=pd.read_csv('fer2013.csv')"
   ]
  },
  {
   "cell_type": "code",
   "execution_count": 5,
   "metadata": {},
   "outputs": [
    {
     "data": {
      "text/html": [
       "<div>\n",
       "<style scoped>\n",
       "    .dataframe tbody tr th:only-of-type {\n",
       "        vertical-align: middle;\n",
       "    }\n",
       "\n",
       "    .dataframe tbody tr th {\n",
       "        vertical-align: top;\n",
       "    }\n",
       "\n",
       "    .dataframe thead th {\n",
       "        text-align: right;\n",
       "    }\n",
       "</style>\n",
       "<table border=\"1\" class=\"dataframe\">\n",
       "  <thead>\n",
       "    <tr style=\"text-align: right;\">\n",
       "      <th></th>\n",
       "      <th>emotion</th>\n",
       "      <th>pixels</th>\n",
       "      <th>Usage</th>\n",
       "    </tr>\n",
       "  </thead>\n",
       "  <tbody>\n",
       "    <tr>\n",
       "      <th>0</th>\n",
       "      <td>0</td>\n",
       "      <td>70 80 82 72 58 58 60 63 54 58 60 48 89 115 121...</td>\n",
       "      <td>Training</td>\n",
       "    </tr>\n",
       "    <tr>\n",
       "      <th>1</th>\n",
       "      <td>0</td>\n",
       "      <td>151 150 147 155 148 133 111 140 170 174 182 15...</td>\n",
       "      <td>Training</td>\n",
       "    </tr>\n",
       "    <tr>\n",
       "      <th>2</th>\n",
       "      <td>2</td>\n",
       "      <td>231 212 156 164 174 138 161 173 182 200 106 38...</td>\n",
       "      <td>Training</td>\n",
       "    </tr>\n",
       "    <tr>\n",
       "      <th>3</th>\n",
       "      <td>4</td>\n",
       "      <td>24 32 36 30 32 23 19 20 30 41 21 22 32 34 21 1...</td>\n",
       "      <td>Training</td>\n",
       "    </tr>\n",
       "    <tr>\n",
       "      <th>4</th>\n",
       "      <td>6</td>\n",
       "      <td>4 0 0 0 0 0 0 0 0 0 0 0 3 15 23 28 48 50 58 84...</td>\n",
       "      <td>Training</td>\n",
       "    </tr>\n",
       "    <tr>\n",
       "      <th>...</th>\n",
       "      <td>...</td>\n",
       "      <td>...</td>\n",
       "      <td>...</td>\n",
       "    </tr>\n",
       "    <tr>\n",
       "      <th>35882</th>\n",
       "      <td>6</td>\n",
       "      <td>50 36 17 22 23 29 33 39 34 37 37 37 39 43 48 5...</td>\n",
       "      <td>PrivateTest</td>\n",
       "    </tr>\n",
       "    <tr>\n",
       "      <th>35883</th>\n",
       "      <td>3</td>\n",
       "      <td>178 174 172 173 181 188 191 194 196 199 200 20...</td>\n",
       "      <td>PrivateTest</td>\n",
       "    </tr>\n",
       "    <tr>\n",
       "      <th>35884</th>\n",
       "      <td>0</td>\n",
       "      <td>17 17 16 23 28 22 19 17 25 26 20 24 31 19 27 9...</td>\n",
       "      <td>PrivateTest</td>\n",
       "    </tr>\n",
       "    <tr>\n",
       "      <th>35885</th>\n",
       "      <td>3</td>\n",
       "      <td>30 28 28 29 31 30 42 68 79 81 77 67 67 71 63 6...</td>\n",
       "      <td>PrivateTest</td>\n",
       "    </tr>\n",
       "    <tr>\n",
       "      <th>35886</th>\n",
       "      <td>2</td>\n",
       "      <td>19 13 14 12 13 16 21 33 50 57 71 84 97 108 122...</td>\n",
       "      <td>PrivateTest</td>\n",
       "    </tr>\n",
       "  </tbody>\n",
       "</table>\n",
       "<p>35887 rows × 3 columns</p>\n",
       "</div>"
      ],
      "text/plain": [
       "       emotion                                             pixels        Usage\n",
       "0            0  70 80 82 72 58 58 60 63 54 58 60 48 89 115 121...     Training\n",
       "1            0  151 150 147 155 148 133 111 140 170 174 182 15...     Training\n",
       "2            2  231 212 156 164 174 138 161 173 182 200 106 38...     Training\n",
       "3            4  24 32 36 30 32 23 19 20 30 41 21 22 32 34 21 1...     Training\n",
       "4            6  4 0 0 0 0 0 0 0 0 0 0 0 3 15 23 28 48 50 58 84...     Training\n",
       "...        ...                                                ...          ...\n",
       "35882        6  50 36 17 22 23 29 33 39 34 37 37 37 39 43 48 5...  PrivateTest\n",
       "35883        3  178 174 172 173 181 188 191 194 196 199 200 20...  PrivateTest\n",
       "35884        0  17 17 16 23 28 22 19 17 25 26 20 24 31 19 27 9...  PrivateTest\n",
       "35885        3  30 28 28 29 31 30 42 68 79 81 77 67 67 71 63 6...  PrivateTest\n",
       "35886        2  19 13 14 12 13 16 21 33 50 57 71 84 97 108 122...  PrivateTest\n",
       "\n",
       "[35887 rows x 3 columns]"
      ]
     },
     "execution_count": 5,
     "metadata": {},
     "output_type": "execute_result"
    }
   ],
   "source": [
    "df"
   ]
  },
  {
   "cell_type": "code",
   "execution_count": 6,
   "metadata": {},
   "outputs": [
    {
     "name": "stdout",
     "output_type": "stream",
     "text": [
      "<class 'pandas.core.frame.DataFrame'>\n",
      "RangeIndex: 35887 entries, 0 to 35886\n",
      "Data columns (total 3 columns):\n",
      " #   Column   Non-Null Count  Dtype \n",
      "---  ------   --------------  ----- \n",
      " 0   emotion  35887 non-null  int64 \n",
      " 1   pixels   35887 non-null  object\n",
      " 2   Usage    35887 non-null  object\n",
      "dtypes: int64(1), object(2)\n",
      "memory usage: 841.2+ KB\n"
     ]
    }
   ],
   "source": [
    "df.info()"
   ]
  },
  {
   "cell_type": "code",
   "execution_count": 7,
   "metadata": {
    "scrolled": true
   },
   "outputs": [
    {
     "name": "stdout",
     "output_type": "stream",
     "text": [
      "Training       28709\n",
      "PrivateTest     3589\n",
      "PublicTest      3589\n",
      "Name: Usage, dtype: int64\n"
     ]
    }
   ],
   "source": [
    "print(df[\"Usage\"].value_counts())\n"
   ]
  },
  {
   "cell_type": "markdown",
   "metadata": {},
   "source": [
    "emotions is divided into (0=Angry, 1=Disgust, 2=Fear, 3=Happy, 4=Sad, 5=Surprise, 6=Neutral) categories<br>\n",
    "the pixels contains 48*48 coloums of data <br>\n",
    "usage is basically the use of the data as training, public test or  private test<br>"
   ]
  },
  {
   "cell_type": "code",
   "execution_count": 8,
   "metadata": {},
   "outputs": [
    {
     "data": {
      "text/html": [
       "<div>\n",
       "<style scoped>\n",
       "    .dataframe tbody tr th:only-of-type {\n",
       "        vertical-align: middle;\n",
       "    }\n",
       "\n",
       "    .dataframe tbody tr th {\n",
       "        vertical-align: top;\n",
       "    }\n",
       "\n",
       "    .dataframe thead th {\n",
       "        text-align: right;\n",
       "    }\n",
       "</style>\n",
       "<table border=\"1\" class=\"dataframe\">\n",
       "  <thead>\n",
       "    <tr style=\"text-align: right;\">\n",
       "      <th></th>\n",
       "      <th>emotion</th>\n",
       "      <th>pixels</th>\n",
       "      <th>Usage</th>\n",
       "    </tr>\n",
       "  </thead>\n",
       "  <tbody>\n",
       "    <tr>\n",
       "      <th>0</th>\n",
       "      <td>0</td>\n",
       "      <td>70 80 82 72 58 58 60 63 54 58 60 48 89 115 121...</td>\n",
       "      <td>Training</td>\n",
       "    </tr>\n",
       "    <tr>\n",
       "      <th>1</th>\n",
       "      <td>0</td>\n",
       "      <td>151 150 147 155 148 133 111 140 170 174 182 15...</td>\n",
       "      <td>Training</td>\n",
       "    </tr>\n",
       "    <tr>\n",
       "      <th>2</th>\n",
       "      <td>2</td>\n",
       "      <td>231 212 156 164 174 138 161 173 182 200 106 38...</td>\n",
       "      <td>Training</td>\n",
       "    </tr>\n",
       "    <tr>\n",
       "      <th>3</th>\n",
       "      <td>4</td>\n",
       "      <td>24 32 36 30 32 23 19 20 30 41 21 22 32 34 21 1...</td>\n",
       "      <td>Training</td>\n",
       "    </tr>\n",
       "    <tr>\n",
       "      <th>4</th>\n",
       "      <td>6</td>\n",
       "      <td>4 0 0 0 0 0 0 0 0 0 0 0 3 15 23 28 48 50 58 84...</td>\n",
       "      <td>Training</td>\n",
       "    </tr>\n",
       "  </tbody>\n",
       "</table>\n",
       "</div>"
      ],
      "text/plain": [
       "   emotion                                             pixels     Usage\n",
       "0        0  70 80 82 72 58 58 60 63 54 58 60 48 89 115 121...  Training\n",
       "1        0  151 150 147 155 148 133 111 140 170 174 182 15...  Training\n",
       "2        2  231 212 156 164 174 138 161 173 182 200 106 38...  Training\n",
       "3        4  24 32 36 30 32 23 19 20 30 41 21 22 32 34 21 1...  Training\n",
       "4        6  4 0 0 0 0 0 0 0 0 0 0 0 3 15 23 28 48 50 58 84...  Training"
      ]
     },
     "execution_count": 8,
     "metadata": {},
     "output_type": "execute_result"
    }
   ],
   "source": [
    "df.head()"
   ]
  },
  {
   "cell_type": "markdown",
   "metadata": {},
   "source": [
    "declaring the test and train variables\n",
    "here we declare empty list for the variables"
   ]
  },
  {
   "cell_type": "code",
   "execution_count": 22,
   "metadata": {},
   "outputs": [],
   "source": [
    "X_train,y_train,X_test,y_test=[],[],[],[]"
   ]
  },
  {
   "cell_type": "markdown",
   "metadata": {},
   "source": [
    "As the pixel coloumn contains 48 values so we have convert into list <br>\n",
    "We to it by iterating it through a for loop"
   ]
  },
  {
   "cell_type": "code",
   "execution_count": 23,
   "metadata": {},
   "outputs": [],
   "source": [
    "for index,row in df.iterrows():\n",
    "    val=row[\"pixels\"].split(\" \")\n",
    "    try:\n",
    "        if \"Training\" in row['Usage']: #-------if value of a usage is training then we apppend the pixels in X_train\n",
    "            X_train.append(np.array(val,'float32')) # as we have already stored pixels in list \"val\" so we appendand convert it into float 32\n",
    "            y_train.append(row['emotion'])\n",
    "        elif \"PublicTest\" in row['Usage']: # if usage is given as public test then we append the data in test part of the dataset\n",
    "            X_test.append(np.array(val,'float32'))\n",
    "            y_test.append(row['emotion'])\n",
    "    except:\n",
    "        print(f\"error occured at index :{index} and row:{row}\")"
   ]
  },
  {
   "cell_type": "code",
   "execution_count": 24,
   "metadata": {},
   "outputs": [],
   "source": [
    "#print(val)"
   ]
  },
  {
   "cell_type": "code",
   "execution_count": 25,
   "metadata": {},
   "outputs": [
    {
     "name": "stdout",
     "output_type": "stream",
     "text": [
      "<class 'list'>\n",
      "<class 'list'>\n",
      "<class 'list'>\n",
      "<class 'list'>\n"
     ]
    }
   ],
   "source": [
    "print(type(X_train))\n",
    "print(type(X_test))\n",
    "print(type(y_train))\n",
    "print(type(y_test))"
   ]
  },
  {
   "cell_type": "markdown",
   "metadata": {},
   "source": [
    "As keras only accepts the np array format input so we have to convert all the train and test split into np array "
   ]
  },
  {
   "cell_type": "code",
   "execution_count": 26,
   "metadata": {},
   "outputs": [],
   "source": [
    "X_train = np.array(X_train,'float32')\n",
    "y_train = np.array(y_train,'float32')\n",
    "X_test = np.array(X_test,'float32')\n",
    "y_test = np.array(y_test,'float32')"
   ]
  },
  {
   "cell_type": "code",
   "execution_count": 27,
   "metadata": {},
   "outputs": [
    {
     "name": "stdout",
     "output_type": "stream",
     "text": [
      "<class 'numpy.ndarray'>\n",
      "<class 'numpy.ndarray'>\n",
      "<class 'numpy.ndarray'>\n",
      "<class 'numpy.ndarray'>\n"
     ]
    }
   ],
   "source": [
    "print(type(X_train))\n",
    "print(type(X_test))\n",
    "print(type(y_train))\n",
    "print(type(y_test))"
   ]
  },
  {
   "cell_type": "markdown",
   "metadata": {},
   "source": [
    "normalizing the data bw 0 and 1 for better predictions\n",
    "\n",
    "step-1) Substaracting mean<br>\n",
    "step2) dividing by stanadrd Deviation"
   ]
  },
  {
   "cell_type": "code",
   "execution_count": 28,
   "metadata": {},
   "outputs": [],
   "source": [
    "X_train-=np.mean(X_train,axis=0)\n",
    "X_train/=np.std(X_train,axis=0)\n",
    "\n",
    "X_test-=np.mean(X_test,axis=0)\n",
    "X_test/=np.std(X_test,axis=0)"
   ]
  },
  {
   "cell_type": "code",
   "execution_count": 29,
   "metadata": {},
   "outputs": [
    {
     "name": "stdout",
     "output_type": "stream",
     "text": [
      "[[-0.6098866  -0.4592209  -0.40325198 ... -0.08629682 -0.0573744\n",
      "  -0.41127437]\n",
      " [ 0.37236458  0.40461555  0.41102034 ...  1.0387505   0.8913998\n",
      "   0.8866632 ]\n",
      " [ 1.3424892   1.1697278   0.52376574 ... -0.31906524 -0.04455312\n",
      "   0.47946712]\n",
      " ...\n",
      " [-0.5613804  -0.44688037 -0.34061563 ...  0.97409266  0.9426849\n",
      "   0.9248379 ]\n",
      " [ 1.2333502   1.3548356   1.1125473  ...  0.30165055  0.28879997\n",
      "   0.2504193 ]\n",
      " [ 0.90593314  1.0093011   1.1376019  ... -1.3794547  -1.2625741\n",
      "  -0.97116905]]\n"
     ]
    }
   ],
   "source": [
    "print(X_train)"
   ]
  },
  {
   "cell_type": "code",
   "execution_count": 30,
   "metadata": {},
   "outputs": [
    {
     "name": "stdout",
     "output_type": "stream",
     "text": [
      "[[ 1.6505896   1.7122597   1.774942   ... -0.9225547   0.18117245\n",
      "   0.80417955]\n",
      " [ 0.45219082  0.84190166  1.0658671  ...  0.73589116  0.6640275\n",
      "   0.5656745 ]\n",
      " [-0.6116937   0.02127829 -0.6688345  ... -0.33572    -0.35250947\n",
      "  -0.32558146]\n",
      " ...\n",
      " [ 1.6628181   1.7246933   1.7876041  ... -0.84601104 -0.8226578\n",
      "  -0.87790906]\n",
      " [-1.0519217  -1.1350546  -1.0486962  ... -1.4073311  -1.3944598\n",
      "  -1.4051309 ]\n",
      " [-0.7095221  -0.66257447 -0.6941586  ... -0.01678811  0.6386141\n",
      "   0.80417955]]\n"
     ]
    }
   ],
   "source": [
    "print(X_test)"
   ]
  },
  {
   "cell_type": "code",
   "execution_count": 31,
   "metadata": {},
   "outputs": [
    {
     "name": "stdout",
     "output_type": "stream",
     "text": [
      "[0. 0. 2. ... 4. 0. 4.]\n"
     ]
    }
   ],
   "source": [
    "print(y_train)"
   ]
  },
  {
   "cell_type": "markdown",
   "metadata": {},
   "source": [
    "decralaring some values"
   ]
  },
  {
   "cell_type": "code",
   "execution_count": 32,
   "metadata": {},
   "outputs": [],
   "source": [
    "num_features = 64 # no.of features of conv2d layer\n",
    "num_labels = 7\n",
    "batch_size = 64\n",
    "epochs = 30\n",
    "width, height = 48, 48 #pixel \n"
   ]
  },
  {
   "cell_type": "code",
   "execution_count": 34,
   "metadata": {},
   "outputs": [],
   "source": [
    "X_train=X_train.reshape(X_train.shape[0],width,height,1)\n",
    "X_test=X_test.reshape(X_test.shape[0],width,height,1)"
   ]
  },
  {
   "cell_type": "code",
   "execution_count": 35,
   "metadata": {},
   "outputs": [
    {
     "name": "stdout",
     "output_type": "stream",
     "text": [
      "[[[[ 1.6505896 ]\n",
      "   [ 1.7122597 ]\n",
      "   [ 1.774942  ]\n",
      "   ...\n",
      "   [-1.2007871 ]\n",
      "   [-1.4180579 ]\n",
      "   [ 0.5287383 ]]\n",
      "\n",
      "  [[ 1.6706394 ]\n",
      "   [ 1.735452  ]\n",
      "   [ 1.8093711 ]\n",
      "   ...\n",
      "   [-1.18421   ]\n",
      "   [-1.4165792 ]\n",
      "   [ 0.06540257]]\n",
      "\n",
      "  [[ 1.6902738 ]\n",
      "   [ 1.7594564 ]\n",
      "   [ 1.835705  ]\n",
      "   ...\n",
      "   [-1.0598068 ]\n",
      "   [-1.4072696 ]\n",
      "   [-0.02004949]]\n",
      "\n",
      "  ...\n",
      "\n",
      "  [[-0.65270513]\n",
      "   [-0.3880233 ]\n",
      "   [-0.21744046]\n",
      "   ...\n",
      "   [ 1.8131278 ]\n",
      "   [ 1.7565633 ]\n",
      "   [ 1.7378885 ]]\n",
      "\n",
      "  [[-0.43341777]\n",
      "   [-0.3116194 ]\n",
      "   [-0.3077701 ]\n",
      "   ...\n",
      "   [ 1.5599844 ]\n",
      "   [ 1.785993  ]\n",
      "   [ 1.7480594 ]]\n",
      "\n",
      "  [[-0.3203255 ]\n",
      "   [-0.33700454]\n",
      "   [-0.38944486]\n",
      "   ...\n",
      "   [-0.9225547 ]\n",
      "   [ 0.18117245]\n",
      "   [ 0.80417955]]]\n",
      "\n",
      "\n",
      " [[[ 0.45219082]\n",
      "   [ 0.84190166]\n",
      "   [ 1.0658671 ]\n",
      "   ...\n",
      "   [ 0.5731197 ]\n",
      "   [ 0.4906877 ]\n",
      "   [ 0.39366612]]\n",
      "\n",
      "  [[ 0.34311205]\n",
      "   [ 0.8348267 ]\n",
      "   [ 1.1059843 ]\n",
      "   ...\n",
      "   [ 0.6423406 ]\n",
      "   [ 0.5081616 ]\n",
      "   [ 0.40972537]]\n",
      "\n",
      "  [[ 0.2202261 ]\n",
      "   [ 0.7781215 ]\n",
      "   [ 1.0771161 ]\n",
      "   ...\n",
      "   [ 0.7152708 ]\n",
      "   [ 0.6148504 ]\n",
      "   [ 0.48470077]]\n",
      "\n",
      "  ...\n",
      "\n",
      "  [[-1.1313825 ]\n",
      "   [-1.1594504 ]\n",
      "   [-1.2110373 ]\n",
      "   ...\n",
      "   [ 0.8327548 ]\n",
      "   [ 0.7693058 ]\n",
      "   [ 0.7136794 ]]\n",
      "\n",
      "  [[-1.1253655 ]\n",
      "   [-1.2456722 ]\n",
      "   [-1.1977048 ]\n",
      "   ...\n",
      "   [ 0.80220306]\n",
      "   [ 0.72793555]\n",
      "   [ 0.66518474]]\n",
      "\n",
      "  [[-1.2258772 ]\n",
      "   [-1.2955414 ]\n",
      "   [-1.1746722 ]\n",
      "   ...\n",
      "   [ 0.73589116]\n",
      "   [ 0.6640275 ]\n",
      "   [ 0.5656745 ]]]\n",
      "\n",
      "\n",
      " [[[-0.6116937 ]\n",
      "   [ 0.02127829]\n",
      "   [-0.6688345 ]\n",
      "   ...\n",
      "   [ 0.08246464]\n",
      "   [ 0.11885414]\n",
      "   [ 0.31999037]]\n",
      "\n",
      "  [[-0.64024144]\n",
      "   [-0.00325524]\n",
      "   [-0.71003246]\n",
      "   ...\n",
      "   [ 0.2364405 ]\n",
      "   [ 0.12071376]\n",
      "   [ 0.17607775]]\n",
      "\n",
      "  [[-0.6568612 ]\n",
      "   [ 0.02324845]\n",
      "   [-0.6457811 ]\n",
      "   ...\n",
      "   [ 0.3449309 ]\n",
      "   [ 0.35109562]\n",
      "   [ 0.25079212]]\n",
      "\n",
      "  ...\n",
      "\n",
      "  [[-0.04806008]\n",
      "   [-0.37537694]\n",
      "   [ 0.2538811 ]\n",
      "   ...\n",
      "   [-0.21211633]\n",
      "   [-0.39745304]\n",
      "   [-0.3863971 ]]\n",
      "\n",
      "  [[-0.05599174]\n",
      "   [-0.39997575]\n",
      "   [ 0.30247086]\n",
      "   ...\n",
      "   [-0.32804707]\n",
      "   [-0.39386037]\n",
      "   [-0.35473204]]\n",
      "\n",
      "  [[-0.05620625]\n",
      "   [-0.37484154]\n",
      "   [ 0.37045264]\n",
      "   ...\n",
      "   [-0.33572   ]\n",
      "   [-0.35250947]\n",
      "   [-0.32558146]]]\n",
      "\n",
      "\n",
      " ...\n",
      "\n",
      "\n",
      " [[[ 1.6628181 ]\n",
      "   [ 1.7246933 ]\n",
      "   [ 1.7876041 ]\n",
      "   ...\n",
      "   [ 1.8060479 ]\n",
      "   [ 1.7425272 ]\n",
      "   [ 1.6829919 ]]\n",
      "\n",
      "  [[ 1.6829313 ]\n",
      "   [ 1.7479608 ]\n",
      "   [ 1.8221599 ]\n",
      "   ...\n",
      "   [ 1.8346722 ]\n",
      "   [ 1.7704916 ]\n",
      "   [ 1.700936  ]]\n",
      "\n",
      "  [[ 1.7026271 ]\n",
      "   [ 1.7720376 ]\n",
      "   [ 1.8485625 ]\n",
      "   ...\n",
      "   [ 1.8646017 ]\n",
      "   [ 1.7954671 ]\n",
      "   [ 1.715799  ]]\n",
      "\n",
      "  ...\n",
      "\n",
      "  [[ 1.438359  ]\n",
      "   [ 1.4456968 ]\n",
      "   [ 1.2984315 ]\n",
      "   ...\n",
      "   [-0.89579743]\n",
      "   [-0.7820988 ]\n",
      "   [-0.51284266]]\n",
      "\n",
      "  [[ 1.403389  ]\n",
      "   [ 1.392396  ]\n",
      "   [ 1.281399  ]\n",
      "   ...\n",
      "   [-0.7647346 ]\n",
      "   [-0.7762908 ]\n",
      "   [-0.83321154]]\n",
      "\n",
      "  [[ 1.3775839 ]\n",
      "   [ 1.3025979 ]\n",
      "   [ 1.1556801 ]\n",
      "   ...\n",
      "   [-0.84601104]\n",
      "   [-0.8226578 ]\n",
      "   [-0.87790906]]]\n",
      "\n",
      "\n",
      " [[[-1.0519217 ]\n",
      "   [-1.1350546 ]\n",
      "   [-1.0486962 ]\n",
      "   ...\n",
      "   [-0.9994927 ]\n",
      "   [-1.0214355 ]\n",
      "   [-1.1044075 ]]\n",
      "\n",
      "  [[-0.91066366]\n",
      "   [-1.0539849 ]\n",
      "   [-0.9913872 ]\n",
      "   ...\n",
      "   [-0.9939443 ]\n",
      "   [-1.0291314 ]\n",
      "   [-1.1274301 ]]\n",
      "\n",
      "  [[-1.1633482 ]\n",
      "   [-0.9958301 ]\n",
      "   [-0.95435965]\n",
      "   ...\n",
      "   [-1.0470364 ]\n",
      "   [-1.1058356 ]\n",
      "   [-1.1649709 ]]\n",
      "\n",
      "  ...\n",
      "\n",
      "  [[-1.3959148 ]\n",
      "   [-1.4123772 ]\n",
      "   [-1.4275904 ]\n",
      "   ...\n",
      "   [-1.4246829 ]\n",
      "   [-1.4231751 ]\n",
      "   [-1.4232508 ]]\n",
      "\n",
      "  [[-1.4398872 ]\n",
      "   [-1.4097626 ]\n",
      "   [-1.4265451 ]\n",
      "   ...\n",
      "   [-1.419766  ]\n",
      "   [-1.4009272 ]\n",
      "   [-1.4124235 ]]\n",
      "\n",
      "  [[-1.452265  ]\n",
      "   [-1.4216646 ]\n",
      "   [-1.4153066 ]\n",
      "   ...\n",
      "   [-1.4073311 ]\n",
      "   [-1.3944598 ]\n",
      "   [-1.4051309 ]]]\n",
      "\n",
      "\n",
      " [[[-0.7095221 ]\n",
      "   [-0.66257447]\n",
      "   [-0.6941586 ]\n",
      "   ...\n",
      "   [-0.29496235]\n",
      "   [-0.4141073 ]\n",
      "   [-0.3799293 ]]\n",
      "\n",
      "  [[-0.71399295]\n",
      "   [-0.6537069 ]\n",
      "   [-0.748399  ]\n",
      "   ...\n",
      "   [-0.32167217]\n",
      "   [-0.3792189 ]\n",
      "   [-0.4018927 ]]\n",
      "\n",
      "  [[-0.7309813 ]\n",
      "   [-0.6183936 ]\n",
      "   [-0.7486406 ]\n",
      "   ...\n",
      "   [-0.37020832]\n",
      "   [-0.2643322 ]\n",
      "   [-0.4263119 ]]\n",
      "\n",
      "  ...\n",
      "\n",
      "  [[-0.7408826 ]\n",
      "   [-0.7168283 ]\n",
      "   [-0.7142388 ]\n",
      "   ...\n",
      "   [ 0.1232744 ]\n",
      "   [ 0.06412191]\n",
      "   [ 1.0171487 ]]\n",
      "\n",
      "  [[-0.76052034]\n",
      "   [-0.71553415]\n",
      "   [-0.7273107 ]\n",
      "   ...\n",
      "   [-0.17392205]\n",
      "   [ 0.47298193]\n",
      "   [ 0.8666498 ]]\n",
      "\n",
      "  [[-0.78567845]\n",
      "   [-0.740599  ]\n",
      "   [-0.73139876]\n",
      "   ...\n",
      "   [-0.01678811]\n",
      "   [ 0.6386141 ]\n",
      "   [ 0.80417955]]]]\n"
     ]
    }
   ],
   "source": [
    "print(X_test)"
   ]
  },
  {
   "cell_type": "markdown",
   "metadata": {},
   "source": [
    "desinging the cnn"
   ]
  },
  {
   "cell_type": "code",
   "execution_count": 38,
   "metadata": {},
   "outputs": [],
   "source": [
    "#1st Layer"
   ]
  },
  {
   "cell_type": "code",
   "execution_count": 57,
   "metadata": {},
   "outputs": [],
   "source": [
    "model=Sequential()"
   ]
  },
  {
   "cell_type": "code",
   "execution_count": 58,
   "metadata": {},
   "outputs": [],
   "source": [
    "model.add(Conv2D(num_features,kernel_size=(3,3),activation=\"relu\",input_shape=(X_train.shape[1:])))#kernel size is the filter size that we are going to superimpose n images,relu is recifier activation function \n",
    "model.add(Conv2D(num_features,kernel_size=(3,3),activation=\"relu\"))\n",
    "model.add(MaxPooling2D(pool_size=(2,2),strides=(2,2))) # mqx pool function choosesthe max value from the pool and ouput is fomed with that\n",
    "model.add(Dropout(0.5)) #drop out somethings so that model doesnt overfit"
   ]
  },
  {
   "cell_type": "code",
   "execution_count": 59,
   "metadata": {},
   "outputs": [],
   "source": [
    "#2nd layer"
   ]
  },
  {
   "cell_type": "code",
   "execution_count": 60,
   "metadata": {},
   "outputs": [],
   "source": [
    "model.add(Conv2D(num_features,kernel_size=(3,3),activation=\"relu\"))#kernel size is the filter size that we are going to superimpose n images,relu is recifier activation function \n",
    "model.add(Conv2D(num_features,kernel_size=(3,3),activation=\"relu\"))\n",
    "model.add(MaxPooling2D(pool_size=(2,2),strides=(2,2))) # mqx pool function choosesthe max value from the pool and ouput is fomed with that\n",
    "model.add(Dropout(0.5)) #drop out somethings so that model doesnt overfit"
   ]
  },
  {
   "cell_type": "markdown",
   "metadata": {},
   "source": [
    "3rd layer- in this layer we double the filters"
   ]
  },
  {
   "cell_type": "code",
   "execution_count": 61,
   "metadata": {},
   "outputs": [],
   "source": [
    "model.add(Conv2D(2*num_features,kernel_size=(3,3),activation=\"relu\"))\n",
    "model.add(Conv2D(2*num_features,kernel_size=(3,3),activation=\"relu\"))\n",
    "model.add(MaxPooling2D(pool_size=(2,2),strides=(2,2))) "
   ]
  },
  {
   "cell_type": "markdown",
   "metadata": {},
   "source": [
    "<img src=\"Capture.png\"/>![](Capture.png)"
   ]
  },
  {
   "cell_type": "markdown",
   "metadata": {},
   "source": [
    "TO flatten the function"
   ]
  },
  {
   "cell_type": "code",
   "execution_count": 63,
   "metadata": {},
   "outputs": [],
   "source": [
    "model.add(Flatten()) # reshapes the function to the number of elements contained"
   ]
  },
  {
   "cell_type": "code",
   "execution_count": 65,
   "metadata": {},
   "outputs": [],
   "source": [
    "model.add(Dense(2*2*2*2*num_features,activation=\"relu\"))\n",
    "model.add(Dense(2*2*2*2*num_features,activation=\"relu\"))"
   ]
  },
  {
   "cell_type": "code",
   "execution_count": 67,
   "metadata": {},
   "outputs": [],
   "source": [
    "model.add(Dropout(0.2))"
   ]
  },
  {
   "cell_type": "code",
   "execution_count": 69,
   "metadata": {},
   "outputs": [],
   "source": [
    "model.add(Dense(num_labels, activation='softmax')) # softmax as we have to choose bw the available labels given"
   ]
  },
  {
   "cell_type": "code",
   "execution_count": 70,
   "metadata": {},
   "outputs": [],
   "source": [
    "#compiling the model"
   ]
  },
  {
   "cell_type": "code",
   "execution_count": null,
   "metadata": {},
   "outputs": [],
   "source": []
  }
 ],
 "metadata": {
  "kernelspec": {
   "display_name": "Python 3",
   "language": "python",
   "name": "python3"
  },
  "language_info": {
   "codemirror_mode": {
    "name": "ipython",
    "version": 3
   },
   "file_extension": ".py",
   "mimetype": "text/x-python",
   "name": "python",
   "nbconvert_exporter": "python",
   "pygments_lexer": "ipython3",
   "version": "3.7.6"
  }
 },
 "nbformat": 4,
 "nbformat_minor": 4
}
