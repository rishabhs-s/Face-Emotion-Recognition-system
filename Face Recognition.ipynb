{
 "cells": [
  {
   "cell_type": "markdown",
   "metadata": {},
   "source": [
    "adding dependencies\n"
   ]
  },
  {
   "cell_type": "code",
   "execution_count": 6,
   "metadata": {},
   "outputs": [],
   "source": [
    "import sys, os\n",
    "import pandas as pd\n",
    "import numpy as np\n"
   ]
  },
  {
   "cell_type": "markdown",
   "metadata": {},
   "source": [
    "importing modules"
   ]
  },
  {
   "cell_type": "code",
   "execution_count": 7,
   "metadata": {},
   "outputs": [],
   "source": [
    "import tensorflow as tf\n",
    "from keras.models import Sequential\n",
    "from keras.layers import Dense, Dropout, Activation, Flatten\n",
    "from keras.layers import Conv2D, MaxPooling2D, BatchNormalization,AveragePooling2D\n",
    "from keras.losses import categorical_crossentropy\n",
    "from keras.optimizers import Adam\n",
    "from keras.regularizers import l2\n",
    "from keras.utils import np_utils"
   ]
  },
  {
   "cell_type": "code",
   "execution_count": 8,
   "metadata": {},
   "outputs": [
    {
     "data": {
      "text/plain": [
       "'2.2.0'"
      ]
     },
     "execution_count": 8,
     "metadata": {},
     "output_type": "execute_result"
    }
   ],
   "source": [
    "tf.__version__"
   ]
  },
  {
   "cell_type": "markdown",
   "metadata": {},
   "source": [
    "importing the data"
   ]
  },
  {
   "cell_type": "code",
   "execution_count": 9,
   "metadata": {},
   "outputs": [],
   "source": [
    "df=pd.read_csv('fer2013.csv')"
   ]
  },
  {
   "cell_type": "code",
   "execution_count": 10,
   "metadata": {},
   "outputs": [
    {
     "data": {
      "text/html": [
       "<div>\n",
       "<style scoped>\n",
       "    .dataframe tbody tr th:only-of-type {\n",
       "        vertical-align: middle;\n",
       "    }\n",
       "\n",
       "    .dataframe tbody tr th {\n",
       "        vertical-align: top;\n",
       "    }\n",
       "\n",
       "    .dataframe thead th {\n",
       "        text-align: right;\n",
       "    }\n",
       "</style>\n",
       "<table border=\"1\" class=\"dataframe\">\n",
       "  <thead>\n",
       "    <tr style=\"text-align: right;\">\n",
       "      <th></th>\n",
       "      <th>emotion</th>\n",
       "      <th>pixels</th>\n",
       "      <th>Usage</th>\n",
       "    </tr>\n",
       "  </thead>\n",
       "  <tbody>\n",
       "    <tr>\n",
       "      <th>0</th>\n",
       "      <td>0</td>\n",
       "      <td>70 80 82 72 58 58 60 63 54 58 60 48 89 115 121...</td>\n",
       "      <td>Training</td>\n",
       "    </tr>\n",
       "    <tr>\n",
       "      <th>1</th>\n",
       "      <td>0</td>\n",
       "      <td>151 150 147 155 148 133 111 140 170 174 182 15...</td>\n",
       "      <td>Training</td>\n",
       "    </tr>\n",
       "    <tr>\n",
       "      <th>2</th>\n",
       "      <td>2</td>\n",
       "      <td>231 212 156 164 174 138 161 173 182 200 106 38...</td>\n",
       "      <td>Training</td>\n",
       "    </tr>\n",
       "    <tr>\n",
       "      <th>3</th>\n",
       "      <td>4</td>\n",
       "      <td>24 32 36 30 32 23 19 20 30 41 21 22 32 34 21 1...</td>\n",
       "      <td>Training</td>\n",
       "    </tr>\n",
       "    <tr>\n",
       "      <th>4</th>\n",
       "      <td>6</td>\n",
       "      <td>4 0 0 0 0 0 0 0 0 0 0 0 3 15 23 28 48 50 58 84...</td>\n",
       "      <td>Training</td>\n",
       "    </tr>\n",
       "    <tr>\n",
       "      <th>...</th>\n",
       "      <td>...</td>\n",
       "      <td>...</td>\n",
       "      <td>...</td>\n",
       "    </tr>\n",
       "    <tr>\n",
       "      <th>35882</th>\n",
       "      <td>6</td>\n",
       "      <td>50 36 17 22 23 29 33 39 34 37 37 37 39 43 48 5...</td>\n",
       "      <td>PrivateTest</td>\n",
       "    </tr>\n",
       "    <tr>\n",
       "      <th>35883</th>\n",
       "      <td>3</td>\n",
       "      <td>178 174 172 173 181 188 191 194 196 199 200 20...</td>\n",
       "      <td>PrivateTest</td>\n",
       "    </tr>\n",
       "    <tr>\n",
       "      <th>35884</th>\n",
       "      <td>0</td>\n",
       "      <td>17 17 16 23 28 22 19 17 25 26 20 24 31 19 27 9...</td>\n",
       "      <td>PrivateTest</td>\n",
       "    </tr>\n",
       "    <tr>\n",
       "      <th>35885</th>\n",
       "      <td>3</td>\n",
       "      <td>30 28 28 29 31 30 42 68 79 81 77 67 67 71 63 6...</td>\n",
       "      <td>PrivateTest</td>\n",
       "    </tr>\n",
       "    <tr>\n",
       "      <th>35886</th>\n",
       "      <td>2</td>\n",
       "      <td>19 13 14 12 13 16 21 33 50 57 71 84 97 108 122...</td>\n",
       "      <td>PrivateTest</td>\n",
       "    </tr>\n",
       "  </tbody>\n",
       "</table>\n",
       "<p>35887 rows × 3 columns</p>\n",
       "</div>"
      ],
      "text/plain": [
       "       emotion                                             pixels        Usage\n",
       "0            0  70 80 82 72 58 58 60 63 54 58 60 48 89 115 121...     Training\n",
       "1            0  151 150 147 155 148 133 111 140 170 174 182 15...     Training\n",
       "2            2  231 212 156 164 174 138 161 173 182 200 106 38...     Training\n",
       "3            4  24 32 36 30 32 23 19 20 30 41 21 22 32 34 21 1...     Training\n",
       "4            6  4 0 0 0 0 0 0 0 0 0 0 0 3 15 23 28 48 50 58 84...     Training\n",
       "...        ...                                                ...          ...\n",
       "35882        6  50 36 17 22 23 29 33 39 34 37 37 37 39 43 48 5...  PrivateTest\n",
       "35883        3  178 174 172 173 181 188 191 194 196 199 200 20...  PrivateTest\n",
       "35884        0  17 17 16 23 28 22 19 17 25 26 20 24 31 19 27 9...  PrivateTest\n",
       "35885        3  30 28 28 29 31 30 42 68 79 81 77 67 67 71 63 6...  PrivateTest\n",
       "35886        2  19 13 14 12 13 16 21 33 50 57 71 84 97 108 122...  PrivateTest\n",
       "\n",
       "[35887 rows x 3 columns]"
      ]
     },
     "execution_count": 10,
     "metadata": {},
     "output_type": "execute_result"
    }
   ],
   "source": [
    "df"
   ]
  },
  {
   "cell_type": "code",
   "execution_count": 11,
   "metadata": {},
   "outputs": [
    {
     "name": "stdout",
     "output_type": "stream",
     "text": [
      "<class 'pandas.core.frame.DataFrame'>\n",
      "RangeIndex: 35887 entries, 0 to 35886\n",
      "Data columns (total 3 columns):\n",
      " #   Column   Non-Null Count  Dtype \n",
      "---  ------   --------------  ----- \n",
      " 0   emotion  35887 non-null  int64 \n",
      " 1   pixels   35887 non-null  object\n",
      " 2   Usage    35887 non-null  object\n",
      "dtypes: int64(1), object(2)\n",
      "memory usage: 841.2+ KB\n"
     ]
    }
   ],
   "source": [
    "df.info()"
   ]
  },
  {
   "cell_type": "code",
   "execution_count": 12,
   "metadata": {
    "scrolled": true
   },
   "outputs": [
    {
     "name": "stdout",
     "output_type": "stream",
     "text": [
      "Training       28709\n",
      "PrivateTest     3589\n",
      "PublicTest      3589\n",
      "Name: Usage, dtype: int64\n"
     ]
    }
   ],
   "source": [
    "print(df[\"Usage\"].value_counts())\n"
   ]
  },
  {
   "cell_type": "markdown",
   "metadata": {},
   "source": [
    "emotions is divided into (0=Angry, 1=Disgust, 2=Fear, 3=Happy, 4=Sad, 5=Surprise, 6=Neutral) categories<br>\n",
    "the pixels contains 48*48 coloums of data <br>\n",
    "usage is basically the use of the data as training, public test or  private test<br>"
   ]
  },
  {
   "cell_type": "code",
   "execution_count": 13,
   "metadata": {},
   "outputs": [
    {
     "data": {
      "text/html": [
       "<div>\n",
       "<style scoped>\n",
       "    .dataframe tbody tr th:only-of-type {\n",
       "        vertical-align: middle;\n",
       "    }\n",
       "\n",
       "    .dataframe tbody tr th {\n",
       "        vertical-align: top;\n",
       "    }\n",
       "\n",
       "    .dataframe thead th {\n",
       "        text-align: right;\n",
       "    }\n",
       "</style>\n",
       "<table border=\"1\" class=\"dataframe\">\n",
       "  <thead>\n",
       "    <tr style=\"text-align: right;\">\n",
       "      <th></th>\n",
       "      <th>emotion</th>\n",
       "      <th>pixels</th>\n",
       "      <th>Usage</th>\n",
       "    </tr>\n",
       "  </thead>\n",
       "  <tbody>\n",
       "    <tr>\n",
       "      <th>0</th>\n",
       "      <td>0</td>\n",
       "      <td>70 80 82 72 58 58 60 63 54 58 60 48 89 115 121...</td>\n",
       "      <td>Training</td>\n",
       "    </tr>\n",
       "    <tr>\n",
       "      <th>1</th>\n",
       "      <td>0</td>\n",
       "      <td>151 150 147 155 148 133 111 140 170 174 182 15...</td>\n",
       "      <td>Training</td>\n",
       "    </tr>\n",
       "    <tr>\n",
       "      <th>2</th>\n",
       "      <td>2</td>\n",
       "      <td>231 212 156 164 174 138 161 173 182 200 106 38...</td>\n",
       "      <td>Training</td>\n",
       "    </tr>\n",
       "    <tr>\n",
       "      <th>3</th>\n",
       "      <td>4</td>\n",
       "      <td>24 32 36 30 32 23 19 20 30 41 21 22 32 34 21 1...</td>\n",
       "      <td>Training</td>\n",
       "    </tr>\n",
       "    <tr>\n",
       "      <th>4</th>\n",
       "      <td>6</td>\n",
       "      <td>4 0 0 0 0 0 0 0 0 0 0 0 3 15 23 28 48 50 58 84...</td>\n",
       "      <td>Training</td>\n",
       "    </tr>\n",
       "  </tbody>\n",
       "</table>\n",
       "</div>"
      ],
      "text/plain": [
       "   emotion                                             pixels     Usage\n",
       "0        0  70 80 82 72 58 58 60 63 54 58 60 48 89 115 121...  Training\n",
       "1        0  151 150 147 155 148 133 111 140 170 174 182 15...  Training\n",
       "2        2  231 212 156 164 174 138 161 173 182 200 106 38...  Training\n",
       "3        4  24 32 36 30 32 23 19 20 30 41 21 22 32 34 21 1...  Training\n",
       "4        6  4 0 0 0 0 0 0 0 0 0 0 0 3 15 23 28 48 50 58 84...  Training"
      ]
     },
     "execution_count": 13,
     "metadata": {},
     "output_type": "execute_result"
    }
   ],
   "source": [
    "df.head()"
   ]
  },
  {
   "cell_type": "markdown",
   "metadata": {},
   "source": [
    "declaring the test and train variables\n",
    "here we declare empty list for the variables"
   ]
  },
  {
   "cell_type": "code",
   "execution_count": 14,
   "metadata": {},
   "outputs": [],
   "source": [
    "X_train,y_train,X_test,y_test=[],[],[],[]"
   ]
  },
  {
   "cell_type": "markdown",
   "metadata": {},
   "source": [
    "As the pixel coloumn contains 48 values so we have convert into list <br>\n",
    "We to it by iterating it through a for loop"
   ]
  },
  {
   "cell_type": "code",
   "execution_count": 15,
   "metadata": {},
   "outputs": [],
   "source": [
    "for index,row in df.iterrows():\n",
    "    val=row[\"pixels\"].split(\" \")\n",
    "    try:\n",
    "        if \"Training\" in row['Usage']: #-------if value of a usage is training then we apppend the pixels in X_train\n",
    "            X_train.append(np.array(val,'float32')) # as we have already stored pixels in list \"val\" so we appendand convert it into float 32\n",
    "            y_train.append(row['emotion'])\n",
    "        elif \"PublicTest\" in row['Usage']: # if usage is given as public test then we append the data in test part of the dataset\n",
    "            X_test.append(np.array(val,'float32'))\n",
    "            y_test.append(row['emotion'])\n",
    "    except:\n",
    "        print(f\"error occured at index :{index} and row:{row}\")"
   ]
  },
  {
   "cell_type": "code",
   "execution_count": 16,
   "metadata": {},
   "outputs": [],
   "source": [
    "#print(val)"
   ]
  },
  {
   "cell_type": "code",
   "execution_count": 17,
   "metadata": {},
   "outputs": [
    {
     "name": "stdout",
     "output_type": "stream",
     "text": [
      "<class 'list'>\n",
      "<class 'list'>\n",
      "<class 'list'>\n",
      "<class 'list'>\n"
     ]
    }
   ],
   "source": [
    "print(type(X_train))\n",
    "print(type(X_test))\n",
    "print(type(y_train))\n",
    "print(type(y_test))"
   ]
  },
  {
   "cell_type": "markdown",
   "metadata": {},
   "source": [
    "As keras only accepts the np array format input so we have to convert all the train and test split into np array "
   ]
  },
  {
   "cell_type": "code",
   "execution_count": 18,
   "metadata": {},
   "outputs": [],
   "source": [
    "X_train = np.array(X_train,'float32')\n",
    "y_train = np.array(y_train,'float32')\n",
    "X_test = np.array(X_test,'float32')\n",
    "y_test = np.array(y_test,'float32')"
   ]
  },
  {
   "cell_type": "code",
   "execution_count": 19,
   "metadata": {},
   "outputs": [
    {
     "name": "stdout",
     "output_type": "stream",
     "text": [
      "<class 'numpy.ndarray'>\n",
      "<class 'numpy.ndarray'>\n",
      "<class 'numpy.ndarray'>\n",
      "<class 'numpy.ndarray'>\n"
     ]
    }
   ],
   "source": [
    "print(type(X_train))\n",
    "print(type(X_test))\n",
    "print(type(y_train))\n",
    "print(type(y_test))"
   ]
  },
  {
   "cell_type": "markdown",
   "metadata": {},
   "source": [
    "normalizing the data bw 0 and 1 for better predictions\n",
    "\n",
    "step-1) Substaracting mean<br>\n",
    "step2) dividing by stanadrd Deviation"
   ]
  },
  {
   "cell_type": "code",
   "execution_count": 17,
   "metadata": {},
   "outputs": [],
   "source": [
    "#X_train-=np.mean(X_train,axis=0)\n",
    "#X_train/=np.std(X_train,axis=0)\n",
    "\n",
    "#X_test-=np.mean(X_test,axis=0)\n",
    "#X_test/=np.std(X_test,axis=0)"
   ]
  },
  {
   "cell_type": "code",
   "execution_count": 20,
   "metadata": {
    "scrolled": true
   },
   "outputs": [
    {
     "data": {
      "text/plain": [
       "(0.0, 255.0)"
      ]
     },
     "execution_count": 20,
     "metadata": {},
     "output_type": "execute_result"
    }
   ],
   "source": [
    "X_train.min(),X_train.max()"
   ]
  },
  {
   "cell_type": "code",
   "execution_count": 21,
   "metadata": {},
   "outputs": [
    {
     "data": {
      "text/plain": [
       "(0.0, 255.0)"
      ]
     },
     "execution_count": 21,
     "metadata": {},
     "output_type": "execute_result"
    }
   ],
   "source": [
    "X_test.min(),X_test.max()"
   ]
  },
  {
   "cell_type": "markdown",
   "metadata": {},
   "source": [
    "### Min max scaling"
   ]
  },
  {
   "cell_type": "markdown",
   "metadata": {},
   "source": [
    "### Xnorm=$\\frac{x-minvalue}{mavalue-minvalue}$"
   ]
  },
  {
   "cell_type": "code",
   "execution_count": 22,
   "metadata": {},
   "outputs": [],
   "source": [
    "X_train=X_train/X_train.max()"
   ]
  },
  {
   "cell_type": "code",
   "execution_count": 23,
   "metadata": {},
   "outputs": [],
   "source": [
    "X_test=X_test/X_test.max()"
   ]
  },
  {
   "cell_type": "code",
   "execution_count": 24,
   "metadata": {},
   "outputs": [
    {
     "name": "stdout",
     "output_type": "stream",
     "text": [
      "[[0.27450982 0.3137255  0.32156864 ... 0.41568628 0.42745098 0.32156864]\n",
      " [0.5921569  0.5882353  0.5764706  ... 0.75686276 0.7176471  0.72156864]\n",
      " [0.90588236 0.83137256 0.6117647  ... 0.34509805 0.43137255 0.59607846]\n",
      " ...\n",
      " [0.2901961  0.31764707 0.34117648 ... 0.7372549  0.73333335 0.73333335]\n",
      " [0.87058824 0.8901961  0.79607844 ... 0.53333336 0.53333336 0.5254902 ]\n",
      " [0.7647059  0.78039217 0.8039216  ... 0.02352941 0.05882353 0.14901961]]\n"
     ]
    }
   ],
   "source": [
    "print(X_train)"
   ]
  },
  {
   "cell_type": "code",
   "execution_count": 25,
   "metadata": {
    "scrolled": true
   },
   "outputs": [
    {
     "name": "stdout",
     "output_type": "stream",
     "text": [
      "[[0.99607843 0.99607843 0.99607843 ... 0.16470589 0.5058824  0.7058824 ]\n",
      " [0.6117647  0.72156864 0.7764706  ... 0.6745098  0.654902   0.6313726 ]\n",
      " [0.27058825 0.4627451  0.23921569 ... 0.34509805 0.34117648 0.3529412 ]\n",
      " ...\n",
      " [1.         1.         1.         ... 0.1882353  0.19607843 0.18039216]\n",
      " [0.12941177 0.09803922 0.12156863 ... 0.01568628 0.01960784 0.01568628]\n",
      " [0.23921569 0.24705882 0.23137255 ... 0.44313726 0.64705884 0.7058824 ]]\n"
     ]
    }
   ],
   "source": [
    "print(X_test)"
   ]
  },
  {
   "cell_type": "code",
   "execution_count": 26,
   "metadata": {},
   "outputs": [
    {
     "name": "stdout",
     "output_type": "stream",
     "text": [
      "[0. 0. 2. ... 4. 0. 4.]\n"
     ]
    }
   ],
   "source": [
    "print(y_train)"
   ]
  },
  {
   "cell_type": "markdown",
   "metadata": {},
   "source": [
    "decralaring some values"
   ]
  },
  {
   "cell_type": "code",
   "execution_count": 27,
   "metadata": {},
   "outputs": [],
   "source": [
    "num_features = 64 # no.of features of conv2d layer\n",
    "num_labels = 7\n",
    "batch_size = 64\n",
    "epochs = 30\n",
    "width, height = 48, 48 #pixel \n"
   ]
  },
  {
   "cell_type": "code",
   "execution_count": 28,
   "metadata": {},
   "outputs": [],
   "source": [
    "X_train=X_train.reshape(X_train.shape[0],width,height,1)\n",
    "X_test=X_test.reshape(X_test.shape[0],width,height,1)"
   ]
  },
  {
   "cell_type": "code",
   "execution_count": 29,
   "metadata": {},
   "outputs": [
    {
     "name": "stdout",
     "output_type": "stream",
     "text": [
      "[[[[0.99607843]\n",
      "   [0.99607843]\n",
      "   [0.99607843]\n",
      "   ...\n",
      "   [0.0627451 ]\n",
      "   [0.        ]\n",
      "   [0.6313726 ]]\n",
      "\n",
      "  [[0.99607843]\n",
      "   [0.99607843]\n",
      "   [0.99607843]\n",
      "   ...\n",
      "   [0.06666667]\n",
      "   [0.        ]\n",
      "   [0.47843137]]\n",
      "\n",
      "  [[0.99607843]\n",
      "   [0.99607843]\n",
      "   [0.99607843]\n",
      "   ...\n",
      "   [0.10196079]\n",
      "   [0.        ]\n",
      "   [0.44705883]]\n",
      "\n",
      "  ...\n",
      "\n",
      "  [[0.25882354]\n",
      "   [0.3372549 ]\n",
      "   [0.3882353 ]\n",
      "   ...\n",
      "   [1.        ]\n",
      "   [0.9882353 ]\n",
      "   [0.99607843]]\n",
      "\n",
      "  [[0.32941177]\n",
      "   [0.36078432]\n",
      "   [0.36078432]\n",
      "   ...\n",
      "   [0.9254902 ]\n",
      "   [1.        ]\n",
      "   [1.        ]]\n",
      "\n",
      "  [[0.3647059 ]\n",
      "   [0.3529412 ]\n",
      "   [0.33333334]\n",
      "   ...\n",
      "   [0.16470589]\n",
      "   [0.5058824 ]\n",
      "   [0.7058824 ]]]\n",
      "\n",
      "\n",
      " [[[0.6117647 ]\n",
      "   [0.72156864]\n",
      "   [0.7764706 ]\n",
      "   ...\n",
      "   [0.6156863 ]\n",
      "   [0.6039216 ]\n",
      "   [0.5882353 ]]\n",
      "\n",
      "  [[0.57254905]\n",
      "   [0.7137255 ]\n",
      "   [0.78039217]\n",
      "   ...\n",
      "   [0.6313726 ]\n",
      "   [0.6039216 ]\n",
      "   [0.5882353 ]]\n",
      "\n",
      "  [[0.5294118 ]\n",
      "   [0.6901961 ]\n",
      "   [0.7647059 ]\n",
      "   ...\n",
      "   [0.64705884]\n",
      "   [0.6313726 ]\n",
      "   [0.60784316]]\n",
      "\n",
      "  ...\n",
      "\n",
      "  [[0.10980392]\n",
      "   [0.09803922]\n",
      "   [0.08235294]\n",
      "   ...\n",
      "   [0.7019608 ]\n",
      "   [0.6862745 ]\n",
      "   [0.6784314 ]]\n",
      "\n",
      "  [[0.11372549]\n",
      "   [0.07058824]\n",
      "   [0.08627451]\n",
      "   ...\n",
      "   [0.69411767]\n",
      "   [0.6745098 ]\n",
      "   [0.6627451 ]]\n",
      "\n",
      "  [[0.08235294]\n",
      "   [0.05490196]\n",
      "   [0.09019608]\n",
      "   ...\n",
      "   [0.6745098 ]\n",
      "   [0.654902  ]\n",
      "   [0.6313726 ]]]\n",
      "\n",
      "\n",
      " [[[0.27058825]\n",
      "   [0.4627451 ]\n",
      "   [0.23921569]\n",
      "   ...\n",
      "   [0.4627451 ]\n",
      "   [0.4862745 ]\n",
      "   [0.5647059 ]]\n",
      "\n",
      "  [[0.25882354]\n",
      "   [0.4509804 ]\n",
      "   [0.22352941]\n",
      "   ...\n",
      "   [0.5058824 ]\n",
      "   [0.48235294]\n",
      "   [0.5137255 ]]\n",
      "\n",
      "  [[0.2509804 ]\n",
      "   [0.45490196]\n",
      "   [0.23921569]\n",
      "   ...\n",
      "   [0.53333336]\n",
      "   [0.54901963]\n",
      "   [0.53333336]]\n",
      "\n",
      "  ...\n",
      "\n",
      "  [[0.44705883]\n",
      "   [0.34117648]\n",
      "   [0.53333336]\n",
      "   ...\n",
      "   [0.38431373]\n",
      "   [0.32941177]\n",
      "   [0.3372549 ]]\n",
      "\n",
      "  [[0.44705883]\n",
      "   [0.33333334]\n",
      "   [0.54901963]\n",
      "   ...\n",
      "   [0.34901962]\n",
      "   [0.32941177]\n",
      "   [0.34509805]]\n",
      "\n",
      "  [[0.44705883]\n",
      "   [0.34117648]\n",
      "   [0.5686275 ]\n",
      "   ...\n",
      "   [0.34509805]\n",
      "   [0.34117648]\n",
      "   [0.3529412 ]]]\n",
      "\n",
      "\n",
      " ...\n",
      "\n",
      "\n",
      " [[[1.        ]\n",
      "   [1.        ]\n",
      "   [1.        ]\n",
      "   ...\n",
      "   [1.        ]\n",
      "   [1.        ]\n",
      "   [1.        ]]\n",
      "\n",
      "  [[1.        ]\n",
      "   [1.        ]\n",
      "   [1.        ]\n",
      "   ...\n",
      "   [1.        ]\n",
      "   [1.        ]\n",
      "   [1.        ]]\n",
      "\n",
      "  [[1.        ]\n",
      "   [1.        ]\n",
      "   [1.        ]\n",
      "   ...\n",
      "   [1.        ]\n",
      "   [1.        ]\n",
      "   [1.        ]]\n",
      "\n",
      "  ...\n",
      "\n",
      "  [[0.9098039 ]\n",
      "   [0.90588236]\n",
      "   [0.85490197]\n",
      "   ...\n",
      "   [0.1764706 ]\n",
      "   [0.21176471]\n",
      "   [0.29803923]]\n",
      "\n",
      "  [[0.9019608 ]\n",
      "   [0.8901961 ]\n",
      "   [0.8509804 ]\n",
      "   ...\n",
      "   [0.21568628]\n",
      "   [0.21176471]\n",
      "   [0.19607843]]\n",
      "\n",
      "  [[0.89411765]\n",
      "   [0.8627451 ]\n",
      "   [0.8117647 ]\n",
      "   ...\n",
      "   [0.1882353 ]\n",
      "   [0.19607843]\n",
      "   [0.18039216]]]\n",
      "\n",
      "\n",
      " [[[0.12941177]\n",
      "   [0.09803922]\n",
      "   [0.12156863]\n",
      "   ...\n",
      "   [0.1254902 ]\n",
      "   [0.1254902 ]\n",
      "   [0.10980392]]\n",
      "\n",
      "  [[0.17254902]\n",
      "   [0.12156863]\n",
      "   [0.13725491]\n",
      "   ...\n",
      "   [0.1254902 ]\n",
      "   [0.12156863]\n",
      "   [0.09803922]]\n",
      "\n",
      "  [[0.09019608]\n",
      "   [0.13725491]\n",
      "   [0.14509805]\n",
      "   ...\n",
      "   [0.10588235]\n",
      "   [0.09411765]\n",
      "   [0.08235294]]\n",
      "\n",
      "  ...\n",
      "\n",
      "  [[0.02745098]\n",
      "   [0.01960784]\n",
      "   [0.01568628]\n",
      "   ...\n",
      "   [0.01568628]\n",
      "   [0.01568628]\n",
      "   [0.01568628]]\n",
      "\n",
      "  [[0.01568628]\n",
      "   [0.01960784]\n",
      "   [0.01568628]\n",
      "   ...\n",
      "   [0.01568628]\n",
      "   [0.01960784]\n",
      "   [0.01568628]]\n",
      "\n",
      "  [[0.01176471]\n",
      "   [0.01568628]\n",
      "   [0.01568628]\n",
      "   ...\n",
      "   [0.01568628]\n",
      "   [0.01960784]\n",
      "   [0.01568628]]]\n",
      "\n",
      "\n",
      " [[[0.23921569]\n",
      "   [0.24705882]\n",
      "   [0.23137255]\n",
      "   ...\n",
      "   [0.34509805]\n",
      "   [0.31764707]\n",
      "   [0.34117648]]\n",
      "\n",
      "  [[0.23529412]\n",
      "   [0.24705882]\n",
      "   [0.21176471]\n",
      "   ...\n",
      "   [0.33333334]\n",
      "   [0.3254902 ]\n",
      "   [0.32941177]]\n",
      "\n",
      "  [[0.22745098]\n",
      "   [0.25490198]\n",
      "   [0.20784314]\n",
      "   ...\n",
      "   [0.3137255 ]\n",
      "   [0.35686275]\n",
      "   [0.31764707]]\n",
      "\n",
      "  ...\n",
      "\n",
      "  [[0.23137255]\n",
      "   [0.23529412]\n",
      "   [0.23529412]\n",
      "   ...\n",
      "   [0.4862745 ]\n",
      "   [0.47058824]\n",
      "   [0.77254903]]\n",
      "\n",
      "  [[0.22745098]\n",
      "   [0.23529412]\n",
      "   [0.23137255]\n",
      "   ...\n",
      "   [0.39607844]\n",
      "   [0.59607846]\n",
      "   [0.7254902 ]]\n",
      "\n",
      "  [[0.21960784]\n",
      "   [0.22745098]\n",
      "   [0.22745098]\n",
      "   ...\n",
      "   [0.44313726]\n",
      "   [0.64705884]\n",
      "   [0.7058824 ]]]]\n"
     ]
    }
   ],
   "source": [
    "print(X_test)"
   ]
  },
  {
   "cell_type": "code",
   "execution_count": 30,
   "metadata": {},
   "outputs": [],
   "source": [
    "y_train=np_utils.to_categorical(y_train, num_classes=num_labels)\n",
    "y_test=np_utils.to_categorical(y_test, num_classes=num_labels)"
   ]
  },
  {
   "cell_type": "markdown",
   "metadata": {},
   "source": [
    "desinging the cnn"
   ]
  },
  {
   "cell_type": "code",
   "execution_count": 31,
   "metadata": {},
   "outputs": [],
   "source": [
    "#1st Layer"
   ]
  },
  {
   "cell_type": "code",
   "execution_count": 32,
   "metadata": {},
   "outputs": [],
   "source": [
    "model=Sequential()"
   ]
  },
  {
   "cell_type": "code",
   "execution_count": 33,
   "metadata": {},
   "outputs": [],
   "source": [
    "model.add(Conv2D(num_features,kernel_size=(3,3),activation=\"relu\",input_shape=(X_train.shape[1:])))#kernel size is the filter size that we are going to superimpose n images,relu is recifier activation function \n",
    "model.add(Conv2D(num_features,kernel_size=(3,3),activation=\"relu\"))\n",
    "model.add(MaxPooling2D(pool_size=(2,2),strides=(2,2))) # mqx pool function choosesthe max value from the pool and ouput is fomed with that\n",
    "model.add(Dropout(0.5)) #drop out somethings so that model doesnt overfit"
   ]
  },
  {
   "cell_type": "code",
   "execution_count": 34,
   "metadata": {},
   "outputs": [],
   "source": [
    "#2nd layer"
   ]
  },
  {
   "cell_type": "code",
   "execution_count": 35,
   "metadata": {},
   "outputs": [],
   "source": [
    "model.add(Conv2D(num_features,kernel_size=(3,3),activation=\"relu\"))#kernel size is the filter size that we are going to superimpose n images,relu is recifier activation function \n",
    "model.add(Conv2D(num_features,kernel_size=(3,3),activation=\"relu\"))\n",
    "model.add(MaxPooling2D(pool_size=(2,2),strides=(2,2))) # mqx pool function choosesthe max value from the pool and ouput is fomed with that\n",
    "model.add(Dropout(0.5)) #drop out somethings so that model doesnt overfit"
   ]
  },
  {
   "cell_type": "markdown",
   "metadata": {},
   "source": [
    "3rd layer- in this layer we double the filters"
   ]
  },
  {
   "cell_type": "code",
   "execution_count": 36,
   "metadata": {},
   "outputs": [],
   "source": [
    "model.add(Conv2D(2*num_features,kernel_size=(3,3),activation=\"relu\"))\n",
    "model.add(Conv2D(2*num_features,kernel_size=(3,3),activation=\"relu\"))\n",
    "model.add(MaxPooling2D(pool_size=(2,2),strides=(2,2))) "
   ]
  },
  {
   "cell_type": "markdown",
   "metadata": {},
   "source": [
    "<img src=\"capture.png\" width=\"400\"/>"
   ]
  },
  {
   "cell_type": "markdown",
   "metadata": {},
   "source": [
    "TO flatten the function"
   ]
  },
  {
   "cell_type": "code",
   "execution_count": 37,
   "metadata": {},
   "outputs": [],
   "source": [
    "model.add(Flatten()) # reshapes the function to the number of elements contained"
   ]
  },
  {
   "cell_type": "code",
   "execution_count": 38,
   "metadata": {},
   "outputs": [],
   "source": [
    "model.add(Dense(1024, activation='relu'))\n",
    "model.add(Dropout(0.2))\n",
    "model.add(Dense(1024, activation='relu'))\n",
    "model.add(Dropout(0.2))"
   ]
  },
  {
   "cell_type": "code",
   "execution_count": null,
   "metadata": {},
   "outputs": [],
   "source": []
  },
  {
   "cell_type": "code",
   "execution_count": 39,
   "metadata": {},
   "outputs": [],
   "source": [
    "model.add(Dense(num_labels, activation='softmax')) # softmax as we have to choose bw the available labels given"
   ]
  },
  {
   "cell_type": "code",
   "execution_count": 40,
   "metadata": {},
   "outputs": [],
   "source": [
    "#compiling the model"
   ]
  },
  {
   "cell_type": "code",
   "execution_count": 41,
   "metadata": {},
   "outputs": [],
   "source": [
    "model.compile(loss=categorical_crossentropy,optimizer=Adam(),metrics=[\"Accuracy\"])"
   ]
  },
  {
   "cell_type": "code",
   "execution_count": 42,
   "metadata": {},
   "outputs": [
    {
     "name": "stdout",
     "output_type": "stream",
     "text": [
      "Model: \"sequential\"\n",
      "_________________________________________________________________\n",
      "Layer (type)                 Output Shape              Param #   \n",
      "=================================================================\n",
      "conv2d (Conv2D)              (None, 46, 46, 64)        640       \n",
      "_________________________________________________________________\n",
      "conv2d_1 (Conv2D)            (None, 44, 44, 64)        36928     \n",
      "_________________________________________________________________\n",
      "max_pooling2d (MaxPooling2D) (None, 22, 22, 64)        0         \n",
      "_________________________________________________________________\n",
      "dropout (Dropout)            (None, 22, 22, 64)        0         \n",
      "_________________________________________________________________\n",
      "conv2d_2 (Conv2D)            (None, 20, 20, 64)        36928     \n",
      "_________________________________________________________________\n",
      "conv2d_3 (Conv2D)            (None, 18, 18, 64)        36928     \n",
      "_________________________________________________________________\n",
      "max_pooling2d_1 (MaxPooling2 (None, 9, 9, 64)          0         \n",
      "_________________________________________________________________\n",
      "dropout_1 (Dropout)          (None, 9, 9, 64)          0         \n",
      "_________________________________________________________________\n",
      "conv2d_4 (Conv2D)            (None, 7, 7, 128)         73856     \n",
      "_________________________________________________________________\n",
      "conv2d_5 (Conv2D)            (None, 5, 5, 128)         147584    \n",
      "_________________________________________________________________\n",
      "max_pooling2d_2 (MaxPooling2 (None, 2, 2, 128)         0         \n",
      "_________________________________________________________________\n",
      "flatten (Flatten)            (None, 512)               0         \n",
      "_________________________________________________________________\n",
      "dense (Dense)                (None, 1024)              525312    \n",
      "_________________________________________________________________\n",
      "dropout_2 (Dropout)          (None, 1024)              0         \n",
      "_________________________________________________________________\n",
      "dense_1 (Dense)              (None, 1024)              1049600   \n",
      "_________________________________________________________________\n",
      "dropout_3 (Dropout)          (None, 1024)              0         \n",
      "_________________________________________________________________\n",
      "dense_2 (Dense)              (None, 7)                 7175      \n",
      "=================================================================\n",
      "Total params: 1,914,951\n",
      "Trainable params: 1,914,951\n",
      "Non-trainable params: 0\n",
      "_________________________________________________________________\n"
     ]
    }
   ],
   "source": [
    "model.summary()"
   ]
  },
  {
   "cell_type": "code",
   "execution_count": 43,
   "metadata": {},
   "outputs": [
    {
     "name": "stdout",
     "output_type": "stream",
     "text": [
      "Epoch 1/30\n",
      "449/449 [==============================] - 247s 551ms/step - loss: 1.8170 - accuracy: 0.0000e+00 - val_loss: 1.8171 - val_accuracy: 0.0000e+00\n",
      "Epoch 2/30\n",
      "449/449 [==============================] - 251s 560ms/step - loss: 1.8118 - accuracy: 0.0000e+00 - val_loss: 1.8170 - val_accuracy: 0.0000e+00\n",
      "Epoch 3/30\n",
      "449/449 [==============================] - 239s 532ms/step - loss: 1.7371 - accuracy: 0.0000e+00 - val_loss: 1.6954 - val_accuracy: 0.0000e+00\n",
      "Epoch 4/30\n",
      "449/449 [==============================] - 240s 535ms/step - loss: 1.6340 - accuracy: 0.0000e+00 - val_loss: 1.5448 - val_accuracy: 0.0000e+00\n",
      "Epoch 5/30\n",
      "449/449 [==============================] - 281s 625ms/step - loss: 1.5629 - accuracy: 0.0000e+00 - val_loss: 1.4920 - val_accuracy: 0.0000e+00\n",
      "Epoch 6/30\n",
      "449/449 [==============================] - 291s 648ms/step - loss: 1.4913 - accuracy: 0.0000e+00 - val_loss: 1.3957 - val_accuracy: 0.0000e+00\n",
      "Epoch 7/30\n",
      "449/449 [==============================] - 309s 688ms/step - loss: 1.4387 - accuracy: 0.0000e+00 - val_loss: 1.3708 - val_accuracy: 0.0000e+00\n",
      "Epoch 8/30\n",
      "449/449 [==============================] - 277s 617ms/step - loss: 1.4010 - accuracy: 0.0000e+00 - val_loss: 1.3426 - val_accuracy: 0.0000e+00\n",
      "Epoch 9/30\n",
      "449/449 [==============================] - 244s 544ms/step - loss: 1.3582 - accuracy: 0.0000e+00 - val_loss: 1.3246 - val_accuracy: 0.0000e+00\n",
      "Epoch 10/30\n",
      "449/449 [==============================] - 248s 552ms/step - loss: 1.3246 - accuracy: 0.0000e+00 - val_loss: 1.2857 - val_accuracy: 0.0000e+00\n",
      "Epoch 11/30\n",
      "449/449 [==============================] - 277s 616ms/step - loss: 1.3006 - accuracy: 0.0000e+00 - val_loss: 1.2466 - val_accuracy: 0.0000e+00\n",
      "Epoch 12/30\n",
      "449/449 [==============================] - 255s 568ms/step - loss: 1.2767 - accuracy: 0.0000e+00 - val_loss: 1.2377 - val_accuracy: 0.0000e+00\n",
      "Epoch 13/30\n",
      "449/449 [==============================] - 272s 605ms/step - loss: 1.2524 - accuracy: 0.0000e+00 - val_loss: 1.2517 - val_accuracy: 0.0000e+00\n",
      "Epoch 14/30\n",
      "449/449 [==============================] - 250s 556ms/step - loss: 1.2361 - accuracy: 0.0000e+00 - val_loss: 1.2271 - val_accuracy: 0.0000e+00\n",
      "Epoch 15/30\n",
      "449/449 [==============================] - 257s 573ms/step - loss: 1.2192 - accuracy: 0.0000e+00 - val_loss: 1.2206 - val_accuracy: 0.0000e+00\n",
      "Epoch 16/30\n",
      "449/449 [==============================] - 254s 566ms/step - loss: 1.2037 - accuracy: 0.0000e+00 - val_loss: 1.2176 - val_accuracy: 0.0000e+00\n",
      "Epoch 17/30\n",
      "449/449 [==============================] - 253s 563ms/step - loss: 1.1871 - accuracy: 0.0000e+00 - val_loss: 1.2256 - val_accuracy: 0.0000e+00\n",
      "Epoch 18/30\n",
      "449/449 [==============================] - 249s 555ms/step - loss: 1.1699 - accuracy: 0.0000e+00 - val_loss: 1.1952 - val_accuracy: 0.0000e+00\n",
      "Epoch 19/30\n",
      "449/449 [==============================] - 247s 550ms/step - loss: 1.1585 - accuracy: 0.0000e+00 - val_loss: 1.1970 - val_accuracy: 0.0000e+00\n",
      "Epoch 20/30\n",
      "449/449 [==============================] - 262s 584ms/step - loss: 1.1384 - accuracy: 0.0000e+00 - val_loss: 1.1846 - val_accuracy: 0.0000e+00\n",
      "Epoch 21/30\n",
      "449/449 [==============================] - 257s 571ms/step - loss: 1.1301 - accuracy: 0.0000e+00 - val_loss: 1.1962 - val_accuracy: 0.0000e+00\n",
      "Epoch 22/30\n",
      "449/449 [==============================] - 251s 558ms/step - loss: 1.1240 - accuracy: 0.0000e+00 - val_loss: 1.2021 - val_accuracy: 0.0000e+00\n",
      "Epoch 23/30\n",
      "449/449 [==============================] - 247s 551ms/step - loss: 1.1088 - accuracy: 4.9760e-06 - val_loss: 1.2026 - val_accuracy: 0.0000e+00\n",
      "Epoch 24/30\n",
      "449/449 [==============================] - 247s 550ms/step - loss: 1.0918 - accuracy: 4.9760e-06 - val_loss: 1.2153 - val_accuracy: 0.0000e+00\n",
      "Epoch 25/30\n",
      "449/449 [==============================] - 247s 550ms/step - loss: 1.0836 - accuracy: 0.0000e+00 - val_loss: 1.1821 - val_accuracy: 0.0000e+00\n",
      "Epoch 26/30\n",
      "449/449 [==============================] - 279s 621ms/step - loss: 1.0700 - accuracy: 0.0000e+00 - val_loss: 1.1732 - val_accuracy: 0.0000e+00\n",
      "Epoch 27/30\n",
      "449/449 [==============================] - 334s 745ms/step - loss: 1.0603 - accuracy: 4.9760e-06 - val_loss: 1.1737 - val_accuracy: 0.0000e+00\n",
      "Epoch 28/30\n",
      "449/449 [==============================] - 329s 733ms/step - loss: 1.0477 - accuracy: 9.9521e-06 - val_loss: 1.2000 - val_accuracy: 0.0000e+00\n",
      "Epoch 29/30\n",
      "449/449 [==============================] - 338s 752ms/step - loss: 1.0396 - accuracy: 4.9760e-06 - val_loss: 1.1839 - val_accuracy: 0.0000e+00\n",
      "Epoch 30/30\n",
      "449/449 [==============================] - 330s 735ms/step - loss: 1.0263 - accuracy: 9.9521e-06 - val_loss: 1.1965 - val_accuracy: 0.0000e+00\n"
     ]
    },
    {
     "data": {
      "text/plain": [
       "<tensorflow.python.keras.callbacks.History at 0xa2e408>"
      ]
     },
     "execution_count": 43,
     "metadata": {},
     "output_type": "execute_result"
    }
   ],
   "source": [
    "#Training the model\n",
    "model.fit(X_train, y_train,\n",
    "          batch_size=batch_size,\n",
    "          epochs=epochs,\n",
    "          verbose=1,\n",
    "          validation_data=(X_test, y_test),\n",
    "          shuffle=True)\n",
    "\n",
    "\n"
   ]
  },
  {
   "cell_type": "code",
   "execution_count": 44,
   "metadata": {},
   "outputs": [],
   "source": [
    "fer_json = model.to_json()\n",
    "with open(\"fer_minmax.json\", \"w\") as json_file:\n",
    "    json_file.write(fer_json)\n",
    "model.save_weights(\"fer_minmax.h5\")"
   ]
  },
  {
   "cell_type": "code",
   "execution_count": null,
   "metadata": {},
   "outputs": [],
   "source": []
  },
  {
   "cell_type": "code",
   "execution_count": null,
   "metadata": {},
   "outputs": [],
   "source": []
  },
  {
   "cell_type": "code",
   "execution_count": null,
   "metadata": {},
   "outputs": [],
   "source": []
  }
 ],
 "metadata": {
  "kernelspec": {
   "display_name": "Python 3",
   "language": "python",
   "name": "python3"
  },
  "language_info": {
   "codemirror_mode": {
    "name": "ipython",
    "version": 3
   },
   "file_extension": ".py",
   "mimetype": "text/x-python",
   "name": "python",
   "nbconvert_exporter": "python",
   "pygments_lexer": "ipython3",
   "version": "3.7.6"
  }
 },
 "nbformat": 4,
 "nbformat_minor": 4
}
